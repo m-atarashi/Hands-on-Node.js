{
 "cells": [
  {
   "cell_type": "code",
   "execution_count": null,
   "id": "0733dd3c",
   "metadata": {},
   "outputs": [],
   "source": [
    "require('isomorphic-fetch')"
   ]
  },
  {
   "cell_type": "code",
   "execution_count": null,
   "id": "c949a5ad",
   "metadata": {},
   "outputs": [],
   "source": [
    "fetch('http://localhost:3000/api/todos/', {\n",
    "    method: 'POST',\n",
    "    headers: {'Content-Type': 'application/json'},\n",
    "    body: JSON.stringify({title: 'シオンの配信'})\n",
    "})"
   ]
  },
  {
   "cell_type": "code",
   "execution_count": null,
   "id": "00c211b2",
   "metadata": {},
   "outputs": [],
   "source": [
    "'use strict'\n",
    "const http = require('http')\n",
    "const Server = require('socket.io')\n",
    "\n",
    "const server = http.createServer((req, res) => {\n",
    "    \n",
    "}).listen(3000)\n",
    "\n",
    "const io = Server(server)"
   ]
  },
  {
   "cell_type": "code",
   "execution_count": null,
   "id": "226a7c4c",
   "metadata": {},
   "outputs": [],
   "source": [
    "io.on('connection', socket => {\n",
    "    socket.emit('greeting', 'Hello')\n",
    "    socket.on('registerName', name => {\n",
    "        io.emit('notifyNewComer', `${name} joined`)\n",
    "        \n",
    "    })\n",
    "})"
   ]
  },
  {
   "cell_type": "code",
   "execution_count": null,
   "id": "a2684cab",
   "metadata": {},
   "outputs": [],
   "source": [
    "io.of('/namespace1').on('connection', socket => {\n",
    "    io.of('/namespace1').emit('someEvent', 'peko')\n",
    "})"
   ]
  },
  {
   "cell_type": "code",
   "execution_count": null,
   "id": "8642c536",
   "metadata": {},
   "outputs": [],
   "source": [
    "io.on('connection', socket => {\n",
    "    socket.join('roomA')\n",
    "    io.to('roomA').emit('someEvent', 'rusi')\n",
    "    socket.leave('roomA')\n",
    "})"
   ]
  },
  {
   "cell_type": "code",
   "execution_count": null,
   "id": "611350c4",
   "metadata": {},
   "outputs": [],
   "source": [
    "import io from 'socket.io-client'\n",
    "\n",
    "const socket = io()\n",
    "const socket = io('https://socket.io-server.com')\n",
    "const socket = io('/namespace1')"
   ]
  },
  {
   "cell_type": "code",
   "execution_count": null,
   "id": "396d184b",
   "metadata": {},
   "outputs": [],
   "source": [
    "`use strict`\n",
    "const http = require('http')\n",
    "const WebSocket = require('ws')\n",
    "\n",
    "const server = http.createServer((req, res) => {\n",
    "}).listen(3000)\n",
    "\n",
    "const ws = new WebSocket.Server({ server })\n",
    "// const ws = new WebSocket.Server({ port: 3000})"
   ]
  },
  {
   "cell_type": "code",
   "execution_count": null,
   "id": "edefa6ef",
   "metadata": {},
   "outputs": [],
   "source": [
    "ws.on('connection', socket => {\n",
    "    socket.send('Hello')\n",
    "    socket.on('message', name => {\n",
    "        ws.clients.forEach(client => {\n",
    "            if (client.readyState == WebSocket.OPEN) {\n",
    "                client.send(`${name} joined`)\n",
    "            }\n",
    "        })\n",
    "    })\n",
    "})"
   ]
  },
  {
   "cell_type": "code",
   "execution_count": null,
   "id": "026c40f1",
   "metadata": {},
   "outputs": [],
   "source": [
    "const http = require('http')\n",
    "const Server = require('socket.io')\n",
    "\n",
    "const server = http.createServer((req, res) => {}).listen(3000)\n",
    "\n",
    "const io = Server(server)\n",
    "\n",
    "io.use((socket, next) => {\n",
    "    if (isLogin(socket.request.headers)) {\n",
    "        next()\n",
    "    } else {\n",
    "        next(new Error('Need login'))\n",
    "    }\n",
    "})"
   ]
  },
  {
   "cell_type": "code",
   "execution_count": null,
   "id": "bd5935f2",
   "metadata": {},
   "outputs": [],
   "source": [
    "const WebSocket = require('ws')\n",
    "\n",
    "const ws = new WebSocket.Server({ port: 3000 })\n",
    "ws.on('connection', socket => {\n",
    "    socket.send('Hello World!')\n",
    "    socket.on('message', message => console.log(message.toString()))\n",
    "})\n",
    "\n",
    "\n",
    "const socket = new WebSocket('ws://localhost:3000')\n",
    "socket.addEventListener('open', () => {})\n",
    "socket.addEventListener('message', message => {\n",
    "    const data = message.data\n",
    "    console.log(data)\n",
    "})"
   ]
  },
  {
   "cell_type": "code",
   "execution_count": null,
   "id": "80889510",
   "metadata": {},
   "outputs": [],
   "source": [
    "socket.send('PEKOPEKOPEKOPEKOSHAAAAAAAAAAAAARRRRRRRK')"
   ]
  },
  {
   "cell_type": "code",
   "execution_count": null,
   "id": "c45267b2",
   "metadata": {},
   "outputs": [],
   "source": []
  }
 ],
 "metadata": {
  "kernelspec": {
   "display_name": "Javascript (Node.js)",
   "language": "javascript",
   "name": "javascript"
  },
  "language_info": {
   "file_extension": ".js",
   "mimetype": "application/javascript",
   "name": "javascript",
   "version": "14.18.1"
  }
 },
 "nbformat": 4,
 "nbformat_minor": 5
}
