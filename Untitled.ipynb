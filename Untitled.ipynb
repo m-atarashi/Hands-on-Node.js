{
 "cells": [
  {
   "cell_type": "code",
   "execution_count": 1,
   "id": "0733dd3c",
   "metadata": {},
   "outputs": [
    {
     "data": {
      "text/plain": [
       "[Function (anonymous)]"
      ]
     },
     "execution_count": 1,
     "metadata": {},
     "output_type": "execute_result"
    }
   ],
   "source": [
    "require('isomorphic-fetch')"
   ]
  },
  {
   "cell_type": "code",
   "execution_count": 3,
   "id": "c949a5ad",
   "metadata": {},
   "outputs": [
    {
     "data": {
      "text/plain": [
       "Response {\n",
       "  size: 0,\n",
       "  timeout: 0,\n",
       "  [Symbol(Body internals)]: {\n",
       "    body: PassThrough {\n",
       "      _readableState: [ReadableState],\n",
       "      _events: [Object: null prototype],\n",
       "      _eventsCount: 2,\n",
       "      _maxListeners: undefined,\n",
       "      _writableState: [WritableState],\n",
       "      allowHalfOpen: true,\n",
       "      [Symbol(kCapture)]: false,\n",
       "      [Symbol(kTransformState)]: [Object]\n",
       "    },\n",
       "    disturbed: false,\n",
       "    error: null\n",
       "  },\n",
       "  [Symbol(Response internals)]: {\n",
       "    url: 'http://localhost:3000/api/todos/',\n",
       "    status: 201,\n",
       "    statusText: 'Created',\n",
       "    headers: Headers { [Symbol(map)]: [Object: null prototype] },\n",
       "    counter: 0\n",
       "  }\n",
       "}"
      ]
     },
     "execution_count": 3,
     "metadata": {},
     "output_type": "execute_result"
    }
   ],
   "source": [
    "fetch('http://localhost:3000/api/todos/', {\n",
    "    method: 'POST',\n",
    "    headers: {'Content-Type': 'application/json'},\n",
    "    body: JSON.stringify({title: 'シオンの配信'})\n",
    "})"
   ]
  },
  {
   "cell_type": "code",
   "execution_count": null,
   "id": "00c211b2",
   "metadata": {},
   "outputs": [],
   "source": []
  }
 ],
 "metadata": {
  "kernelspec": {
   "display_name": "Javascript (Node.js)",
   "language": "javascript",
   "name": "javascript"
  },
  "language_info": {
   "file_extension": ".js",
   "mimetype": "application/javascript",
   "name": "javascript",
   "version": "14.18.1"
  }
 },
 "nbformat": 4,
 "nbformat_minor": 5
}
