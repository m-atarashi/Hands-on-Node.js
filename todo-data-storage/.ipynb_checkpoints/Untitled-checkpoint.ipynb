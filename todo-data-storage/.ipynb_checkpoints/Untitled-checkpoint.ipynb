{
 "cells": [
  {
   "cell_type": "code",
   "execution_count": 50,
   "id": "38712c75",
   "metadata": {},
   "outputs": [],
   "source": [
    "async function csvToTodo2(path){\n",
    "    return fs.promises.readFile(path, 'utf8')\n",
    "    .then(csv => {\n",
    "        const [propsLine, ...todoLines] = csv.split(/\\n/)\n",
    "        const props = propsLine.split(',')\n",
    "        return todoLines.map(row => {\n",
    "            const values = row.split(',')\n",
    "            const todo = {}\n",
    "            for (let i=0; i<props.length; i++){\n",
    "                todo[props[i]] = props[i] === 'completed'\n",
    "                ? values[i] === 'true'\n",
    "                : values[i]\n",
    "            }\n",
    "            return todo\n",
    "        })\n",
    "    })\n",
    "}"
   ]
  },
  {
   "cell_type": "code",
   "execution_count": 44,
   "id": "18d89d6c",
   "metadata": {},
   "outputs": [],
   "source": [
    "async function parseTodosFromCsv(path){\n",
    "    const content = await fs.promises.readFile(path, 'utf8')\n",
    "    const [propsLine, ...todoLines] = content.split(/\\n/)\n",
    "    const props = propsLine.split(',')\n",
    "    return todoLines.map(row => {\n",
    "        const values = row.split(',')\n",
    "        const todo = {}\n",
    "        for (let i=0; i<props.length; i++){\n",
    "            todo[props[i]] = props[i] === 'completed'\n",
    "            ? values[i] === 'true'\n",
    "            : values[i]\n",
    "        }\n",
    "        return todo\n",
    "    })\n",
    "}"
   ]
  },
  {
   "cell_type": "code",
   "execution_count": 4,
   "id": "b6a47a59",
   "metadata": {},
   "outputs": [],
   "source": [
    "const todos = [\n",
    "    {id: '1', title: 'ぺこら', completed: false},\n",
    "    {id: '2', title: 'ばんごはん', completed: false}\n",
    "]"
   ]
  },
  {
   "cell_type": "code",
   "execution_count": 39,
   "id": "19b52724",
   "metadata": {},
   "outputs": [],
   "source": [
    "function writeTodosToCsv(file, todos){\n",
    "    return fs.promises.writeFile(file,\n",
    "        `id,title,completed\\n${todos.map(({id, title, completed}) => `${id},${title},${completed}`).join('\\n')}`)\n",
    "}"
   ]
  },
  {
   "cell_type": "code",
   "execution_count": 40,
   "id": "4f7e5645",
   "metadata": {},
   "outputs": [],
   "source": [
    "writeTodosToCsv('todos.csv', todos)"
   ]
  },
  {
   "cell_type": "code",
   "execution_count": 51,
   "id": "3a49d992",
   "metadata": {},
   "outputs": [
    {
     "data": {
      "text/plain": [
       "[\n",
       "  { id: '1', title: 'ぺこら', completed: false },\n",
       "  { id: '2', title: 'ばんごはん', completed: false }\n",
       "]"
      ]
     },
     "execution_count": 51,
     "metadata": {},
     "output_type": "execute_result"
    }
   ],
   "source": [
    "(async () => await csvToTodo2('todos.csv'))()"
   ]
  },
  {
   "cell_type": "code",
   "execution_count": 53,
   "id": "854971e8",
   "metadata": {},
   "outputs": [
    {
     "name": "stdout",
     "output_type": "stream",
     "text": [
      "[\n",
      "  { id: '1', title: 'ぺこら', completed: false },\n",
      "  { id: '2', title: 'ばんごはん', completed: false }\n",
      "]\n"
     ]
    }
   ],
   "source": [
    "csvToTodo2('todos.csv').then(console.log)"
   ]
  },
  {
   "cell_type": "code",
   "execution_count": null,
   "id": "2701386d",
   "metadata": {},
   "outputs": [],
   "source": []
  }
 ],
 "metadata": {
  "kernelspec": {
   "display_name": "Javascript (Node.js)",
   "language": "javascript",
   "name": "javascript"
  },
  "language_info": {
   "file_extension": ".js",
   "mimetype": "application/javascript",
   "name": "javascript",
   "version": "14.18.1"
  }
 },
 "nbformat": 4,
 "nbformat_minor": 5
}
