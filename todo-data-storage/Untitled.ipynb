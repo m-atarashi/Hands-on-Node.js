{
 "cells": [
  {
   "cell_type": "code",
   "execution_count": 67,
   "id": "abeedc20",
   "metadata": {},
   "outputs": [],
   "source": [
    "function csvToTodo(path){\n",
    "    return fs.promises.readFile(path, 'utf8')\n",
    "    .then(csv => {\n",
    "        const [propsLine, ...todoLines] = csv.split(/\\n/)\n",
    "        const props = propsLine.split(',')\n",
    "        return todoLines.map(row => {\n",
    "            const values = row.split(',')\n",
    "            const todo = {}\n",
    "            for (let i=0; i<props.length; i++){\n",
    "                todo[props[i]] = props[i] === 'completed'\n",
    "                ? values[i] === 'true'\n",
    "                : values[i]\n",
    "            }\n",
    "            return todo\n",
    "        })\n",
    "    })\n",
    "}"
   ]
  },
  {
   "cell_type": "code",
   "execution_count": 44,
   "id": "a7e694a7",
   "metadata": {},
   "outputs": [],
   "source": [
    "async function parseTodosFromCsv(path){\n",
    "    const content = await fs.promises.readFile(path, 'utf8')\n",
    "    const [propsLine, ...todoLines] = content.split(/\\n/)\n",
    "    const props = propsLine.split(',')\n",
    "    return todoLines.map(row => {\n",
    "        const values = row.split(',')\n",
    "        const todo = {}\n",
    "        for (let i=0; i<props.length; i++){\n",
    "            todo[props[i]] = props[i] === 'completed'\n",
    "            ? values[i] === 'true'\n",
    "            : values[i]\n",
    "        }\n",
    "        return todo\n",
    "    })\n",
    "}"
   ]
  },
  {
   "cell_type": "code",
   "execution_count": 4,
   "id": "2ddb9efe",
   "metadata": {},
   "outputs": [],
   "source": [
    "const todos = [\n",
    "    {id: '1', title: 'ぺこら', completed: false},\n",
    "    {id: '2', title: 'ばんごはん', completed: false}\n",
    "]"
   ]
  },
  {
   "cell_type": "code",
   "execution_count": 39,
   "id": "4770ffda",
   "metadata": {},
   "outputs": [],
   "source": [
    "function writeTodosToCsv(file, todos){\n",
    "    return fs.promises.writeFile(file,\n",
    "        `id,title,completed\\n${todos.map(({id, title, completed}) => `${id},${title},${completed}`).join('\\n')}`)\n",
    "}"
   ]
  },
  {
   "cell_type": "code",
   "execution_count": 40,
   "id": "a93fc111",
   "metadata": {},
   "outputs": [],
   "source": [
    "writeTodosToCsv('todos.csv', todos)"
   ]
  },
  {
   "cell_type": "code",
   "execution_count": 68,
   "id": "4140907c",
   "metadata": {},
   "outputs": [
    {
     "name": "stdout",
     "output_type": "stream",
     "text": [
      "[\n",
      "  { id: '1', title: 'ぺこら', completed: false },\n",
      "  { id: '2', title: 'ばんごはん', completed: false }\n",
      "]\n"
     ]
    }
   ],
   "source": [
    "csvToTodo('todos.csv').then(console.log)"
   ]
  },
  {
   "cell_type": "code",
   "execution_count": 64,
   "id": "7ecd8853",
   "metadata": {},
   "outputs": [
    {
     "name": "stdout",
     "output_type": "stream",
     "text": [
      "[\n",
      "  { id: '1', title: 'ぺこら', completed: false },\n",
      "  { id: '2', title: 'ばんごはん', completed: false }\n",
      "]\n"
     ]
    }
   ],
   "source": [
    "parseTodosFromCsv('todos.csv').then(console.log)"
   ]
  },
  {
   "cell_type": "code",
   "execution_count": 78,
   "id": "593ae4fb",
   "metadata": {},
   "outputs": [],
   "source": [
    "const calli = function(peko) {\n",
    "    return {peko: peko, aug: [...arguments]}\n",
    "}"
   ]
  },
  {
   "cell_type": "code",
   "execution_count": 79,
   "id": "52ba9d92",
   "metadata": {},
   "outputs": [
    {
     "data": {
      "text/plain": [
       "{ peko: 2, aug: [ 2, 'klf', 3 ] }"
      ]
     },
     "execution_count": 79,
     "metadata": {},
     "output_type": "execute_result"
    }
   ],
   "source": [
    "calli(2,'klf',3)"
   ]
  },
  {
   "cell_type": "code",
   "execution_count": null,
   "id": "364058c8",
   "metadata": {},
   "outputs": [],
   "source": []
  }
 ],
 "metadata": {
  "kernelspec": {
   "display_name": "Javascript (Node.js)",
   "language": "javascript",
   "name": "javascript"
  },
  "language_info": {
   "file_extension": ".js",
   "mimetype": "application/javascript",
   "name": "javascript",
   "version": "14.18.1"
  }
 },
 "nbformat": 4,
 "nbformat_minor": 5
}
